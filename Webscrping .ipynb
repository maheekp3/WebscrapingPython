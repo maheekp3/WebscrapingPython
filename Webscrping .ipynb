{
 "cells": [
  {
   "cell_type": "code",
   "execution_count": 1,
   "metadata": {},
   "outputs": [
    {
     "name": "stdout",
     "output_type": "stream",
     "text": [
      "Requirement already satisfied: bs4 in c:\\users\\mahesh\\anaconda3\\lib\\site-packages (0.0.1)\n",
      "Requirement already satisfied: beautifulsoup4 in c:\\users\\mahesh\\anaconda3\\lib\\site-packages (from bs4) (4.6.0)\n"
     ]
    },
    {
     "name": "stderr",
     "output_type": "stream",
     "text": [
      "distributed 1.21.8 requires msgpack, which is not installed.\n",
      "You are using pip version 10.0.1, however version 19.0.2 is available.\n",
      "You should consider upgrading via the 'python -m pip install --upgrade pip' command.\n"
     ]
    }
   ],
   "source": [
    "!pip install bs4"
   ]
  },
  {
   "cell_type": "code",
   "execution_count": 2,
   "metadata": {},
   "outputs": [
    {
     "name": "stdout",
     "output_type": "stream",
     "text": [
      "Requirement already satisfied: requests in c:\\users\\mahesh\\anaconda3\\lib\\site-packages (2.18.4)\n",
      "Requirement already satisfied: chardet<3.1.0,>=3.0.2 in c:\\users\\mahesh\\anaconda3\\lib\\site-packages (from requests) (3.0.4)\n",
      "Requirement already satisfied: idna<2.7,>=2.5 in c:\\users\\mahesh\\anaconda3\\lib\\site-packages (from requests) (2.6)\n",
      "Requirement already satisfied: urllib3<1.23,>=1.21.1 in c:\\users\\mahesh\\anaconda3\\lib\\site-packages (from requests) (1.22)\n",
      "Requirement already satisfied: certifi>=2017.4.17 in c:\\users\\mahesh\\anaconda3\\lib\\site-packages (from requests) (2018.4.16)\n"
     ]
    },
    {
     "name": "stderr",
     "output_type": "stream",
     "text": [
      "distributed 1.21.8 requires msgpack, which is not installed.\n",
      "You are using pip version 10.0.1, however version 19.0.2 is available.\n",
      "You should consider upgrading via the 'python -m pip install --upgrade pip' command.\n"
     ]
    }
   ],
   "source": [
    "!pip install requests"
   ]
  },
  {
   "cell_type": "code",
   "execution_count": 46,
   "metadata": {},
   "outputs": [
    {
     "name": "stdout",
     "output_type": "stream",
     "text": [
      "https://www.amazon.co.uk/ABB-2071034-ESB24-40-230V-installation-contactor/dp/B000ONYT9G\n",
      "https://www.amazon.co.uk/ABB-2CDS251001R1165-Compact-Miniature-Circuit/dp/B000ONRIXU\n",
      "https://www.amazon.co.uk/Automatic-circuit-breaker-S201-B13-ABB/dp/B000UW2PIS\n",
      "https://www.amazon.co.uk/ABB-S2-1-EIB-Building-Block-Logic/dp/B0011D6NOW\n",
      "https://www.amazon.co.uk/abb-entrelec-Floor-Distributor-Surface-Metalico/dp/B001NJFC9Q\n",
      "https://www.amazon.co.uk/ABB-PS1-12-Phased-Pack/dp/B0026P38OC\n",
      "https://www.amazon.co.uk/abb-entrelec-frctlp-Auxiliary-Contactor-Poles/dp/B007KHSNE6\n",
      "https://www.amazon.co.uk/ABB-WYLEX-TYPE-30mA-RCBO-x/dp/B006K1AQCK\n",
      "https://www.amazon.co.uk/abb-entrelec-ED1-profile-width-Fixing/dp/B000VG2LWI\n",
      "https://www.amazon.co.uk/abb-entrelec-zx71-Separator-Plastic-Vertical/dp/B001BG16IW\n",
      "https://www.amazon.co.uk/ABB-2CDS251001R0205-Compact-Miniature-Circuit/dp/B000ONRGOQ\n",
      "https://www.amazon.co.uk/ABB-2CCA703402R0001-E219-D/dp/B003AQR3YC\n",
      "https://www.amazon.co.uk/ABB-Stotz-GHV9010114V0101/dp/B0022S48HO\n",
      "https://www.amazon.co.uk/abb-entrelec-TMAX-RELE-Differential-rc-sel/dp/B00AMHNU3A\n",
      "https://www.amazon.co.uk/ABB-12-24-TRAFO-Control-400VA/dp/B07KWJ8VWC\n",
      "https://www.amazon.co.uk/ABB-Recovery-Bottles-Grape-Frost/dp/B00XQEXRWA\n",
      "https://www.amazon.co.uk/ABB-2CDS273001R0634-Compact-Miniature-Circuit/dp/B001Z3M6NU\n",
      "https://www.amazon.co.uk/abb-entrelec-CONTACTOR-11-230-Contact-Closed/dp/B000ONYTGY\n",
      "https://www.amazon.co.uk/MS132-6-3-1SAM350000R1009-ABB-MANUAL-STARTER/dp/B07HC8FRZJ\n",
      "https://www.amazon.co.uk/ABB-S203-C32-Automatic-Circuit-Breaker/dp/B000VG0Q4I\n",
      "https://www.amazon.co.uk/RELAY-OVERLOAD-7-5-TA25DU11-ABB/dp/B01L4P49E2\n",
      "https://www.amazon.co.uk/ABB-S203-C20-automatic-circuit-breaker/dp/B000VFZCPC\n",
      "https://www.amazon.co.uk/ABB-Stotz-GZAH822332P5280-Ballast-Metal/dp/B008XXQ988\n",
      "https://www.amazon.co.uk/ABB-2CDS251001R0105-Compact-Miniature-Circuit/dp/B000UW2PII\n",
      "https://www.amazon.co.uk/CBK-LMT1-ABB-TRANSFORMER-LAMP-MODULE/dp/B07HCD3S7P\n",
      "https://www.amazon.co.uk/ABB-installation-contactor-ESB63-40-Volt/dp/B000UWCJS4\n",
      "https://www.amazon.co.uk/ABB-RCD-Safety-Switch-DS201-%C2%B0C16/dp/B002ICH62I\n",
      "https://www.amazon.co.uk/DMPR230S000-ABB-MOTOR-PROTECTION-RELAY/dp/B07HC8D167\n",
      "https://www.amazon.co.uk/ABB-S203-B25-Automatic-Circuit-Breaker/dp/B000UW2PRO\n",
      "https://www.amazon.co.uk/ABB-2CDS251001R0254-Compact-Miniature-Circuit/dp/B000ONQAIO\n",
      "https://www.amazon.co.uk/ABB-2CCA703401R0001-E219-C/dp/B003BOYCPG\n",
      "https://www.amazon.co.uk/ABB-2CDS251001R0064-Compact-Miniature-Circuit/dp/B000UW0RP6\n",
      "https://www.amazon.co.uk/CBK-LMT1-ABB-TRANSFORMER-LAMP-MODULE/dp/B07HCD3S7P\n",
      "https://www.amazon.co.uk/abb-entrelec-zs6-d2-Borna-Clamp-Double/dp/B01NAZDKNJ\n",
      "https://www.amazon.co.uk/ABB-435004-Impulse-Switch-1-Pin-16-A/dp/B00NV85ZQ2\n",
      "https://www.amazon.co.uk/abb-entrelec-Lock-Two-Keys-UZ1/dp/B001BG60IS\n",
      "https://www.amazon.co.uk/ABB-Stotz-230-Volts-s2-230-5-1-2736651/dp/B007M7RYXK\n",
      "https://www.amazon.co.uk/ABB-S203-C25-Circuit-Breaker/dp/B01N29D8KQ\n",
      "https://www.amazon.co.uk/abb-entrelec-s200-m-d-magnetotermico-s203-m-d-Tripolar/dp/B01N7YEUGZ\n",
      "https://www.amazon.co.uk/ABB-Residual-Current-Circuit-Breaker-%C2%B0F202A-40/dp/B001L5SLPE\n",
      "https://www.amazon.co.uk/DMPR230S000-ABB-MOTOR-PROTECTION-RELAY/dp/B07HC8D167\n",
      "https://www.amazon.co.uk/abb-entrelec-XT1-Automatic-C160-TMD-R25-im450-Fixed/dp/B01N6XGDIU\n",
      "https://www.amazon.co.uk/ABB-2609696-S203-B16-Circuit-Breaker-16-A/dp/B000ONORXE\n",
      "https://www.amazon.co.uk/096-15-023309615-ABB-ENTRELEC-MARKERS/dp/B07HCCKXMG\n",
      "https://www.amazon.co.uk/abb-entrelec-zx71-Separator-Plastic-Vertical/dp/B001BG16IW\n",
      "https://www.amazon.co.uk/ABB-470091-Modular-Neutral-Circuit-Breaker/dp/B00BSXZXV4\n",
      "https://www.amazon.co.uk/abb-entrelec-XT2-Automatic-S160-TMA-R63-im630-Fixed/dp/B01N5W09NL\n",
      "https://www.amazon.co.uk/GANG-DOUBLE-SWITCH-ABB-AC176/dp/B01KVDH6Z2\n",
      "https://www.amazon.co.uk/ABB-Stotz-S201-B16-Automatic-Connections/dp/B01N1FINCK\n",
      "https://www.amazon.co.uk/abb-entrelec-00-p-minicontactor-24-450-Hz/dp/B01N3A9LN0\n",
      "https://www.amazon.co.uk/ABB-2CDS272001R0164-Compact-Miniature-Circuit/dp/B00AMHE0IO\n",
      "https://www.amazon.co.uk/MS132-10-1SAM350000R1010-ABB-MANUAL-STARTER/dp/B07HC7KXLM\n",
      "https://www.amazon.co.uk/ABB-s4-16-1-EIB-SWITCHING-Actuator-Quadruple/dp/B0018LLFBI\n",
      "https://www.amazon.co.uk/abb-entrelec-UK500-recessed-uk524-N3-24-Modules-Metalico/dp/B00B7Z58HM\n",
      "https://www.amazon.co.uk/ABB-1SL0874A00-Adaptable-Transparent-Thermoplastic/dp/B01N3A69G4\n",
      "https://www.amazon.co.uk/ABB-cpx060657r9999-zh157-Key-Triangle-Twinline/dp/B001ZOQVZS\n",
      "https://www.amazon.co.uk/ABB-198208-Bypass-12-Modules-blue-ABB198209/dp/B017CT8G2K\n",
      "https://www.amazon.co.uk/1SNA607002R0700-ABB-24VDC-RELAY-LAMP/dp/B07HCB2ZZR\n",
      "https://www.amazon.co.uk/abb-entrelec-esb63-24-CONTACTOR-20-24/dp/B01N291SIV\n",
      "https://www.amazon.co.uk/ABB-2CDS251001R0105-Compact-Miniature-Circuit/dp/B000UW2PII\n",
      "https://www.amazon.co.uk/ABB-S201-13-Circuit-Breaker/dp/B01MUHQLT2\n",
      "https://www.amazon.co.uk/ENTRELEC-Errors-without-Control-Neutral/dp/B00AMH9NWW\n",
      "https://www.amazon.co.uk/ABB-Stotz-GZAH708948P9231-Ballast-Metal/dp/B01B155ZI4\n",
      "https://www.amazon.co.uk/abb-entrelec-XT2-Automatic-S160-TMD-R32-IM320-Fixed/dp/B01N17N9CP\n",
      "https://www.amazon.co.uk/abb-entrelec-s200-m-k-magnetotermico-s202-m-k-Modules/dp/B00AMHEJXK\n",
      "https://www.amazon.co.uk/ABB-1SVR011750R0100-ANALOG-SIGNAL-CONVERTER/dp/B00AMH8Y90\n",
      "https://www.amazon.co.uk/ESB25-04N-06-Contactor4-pole-Installation-230%C3%B7240VAC-ABB/dp/B07NKNJZ2L\n",
      "https://www.amazon.co.uk/ABB-dda204-ac-blocco-Differential-30-mA-b427940/dp/B00AMHLRB2\n",
      "https://www.amazon.co.uk/abb-entrelec-esb63-24-CONTACTOR-20-24/dp/B01N291SIV\n",
      "https://www.amazon.co.uk/1SNA607002R0700-ABB-24VDC-RELAY-LAMP/dp/B07HCB2ZZR\n",
      "https://www.amazon.co.uk/ESB25-04N-01-Contactor4-pole-Installation-24VAC-ABB/dp/B07NKN5X3M\n",
      "https://www.amazon.co.uk/abb-entrelec-XT2-Automatic-S160-TMD-R32-IM320-Fixed/dp/B01N17N9CP\n",
      "https://www.amazon.co.uk/abb-entrelec-s200-m-k-magnetotermico-s204-m-k-tetrapolar/dp/B00AMHB91U\n",
      "https://www.amazon.co.uk/ABB-Stotz-Actuator-Compartment-s2-230-2-1-2597938/dp/B0090X69GW\n",
      "https://www.amazon.co.uk/1SAM350000R1011-MS132-16-ABB-MANUAL-STARTER/dp/B07GRD7119\n",
      "https://www.amazon.co.uk/abb-entrelec-AF80-13-Contactor-250-60hz-dc/dp/B01N17A68B\n",
      "https://www.amazon.co.uk/ESB20-20N-06-Contactor2-pole-Installation-230VAC-ABB/dp/B07NKL5MKJ\n",
      "https://www.amazon.co.uk/ABB-Stotz-Security-Ignition-4013232767593/dp/B01AW29WJ0\n",
      "https://www.amazon.co.uk/ac-abb-dda202-40-30-mA-Differential-b427912/dp/B00AMHLM5S\n",
      "https://www.amazon.co.uk/Abb-entrelec-OL40U3RB-abb-entrelec-ol40u3rb-Camshaft/dp/B01MYER2UF\n"
     ]
    }
   ],
   "source": [
    "from bs4 import BeautifulSoup\n",
    "import requests\n",
    "\n",
    "for k in range(1,10):\n",
    "    headers = {'User-Agent': 'Mozilla/5.0 (X11; Linux x86_64) AppleWebKit/537.36 (KHTML, like Gecko) Chrome/42.0.2311.90 Safari/537.36'}\n",
    "    url = \"https://www.amazon.co.uk/s/ref=sr_pg_2?fst=as%3Aoff&rh=i%3Aaps%2Ck%3Aabb%2Cp_89%3AABB%7CABB-Entrelec%7CABB+Stotz%7CABB+SACE%7CABB+Stotz+S%26J&page=\"+str(k)\n",
    "\n",
    "    page = requests.get(url,headers=headers)\n",
    "\n",
    "    soup = BeautifulSoup(page.content,\"lxml\")\n",
    "\n",
    "    product = soup.findAll('div',{'class':'s-item-container'})\n",
    "\n",
    "    \n",
    "    for i in product:\n",
    "        name = i.findAll('a',title=True)\n",
    "        #title = name.text\n",
    "        for l in name:\n",
    "            url2 = l.get('href')\n",
    "            header1 = {'User-Agent': 'Mozilla/5.0 (X11; Linux x86_64) AppleWebKit/537.36 (KHTML, like Gecko) Chrome/42.0.2311.90 Safari/537.36'}\n",
    "            page2 = requests.get(url2)\n",
    "            soup2 = BeautifulSoup(page2.content,'lxml')\n",
    "            pro_details = soup2.findAll('td',{'class':'value'})\n",
    "            print(url2)    "
   ]
  },
  {
   "cell_type": "code",
   "execution_count": 12,
   "metadata": {},
   "outputs": [],
   "source": [
    "a = \"mahesh\""
   ]
  },
  {
   "cell_type": "code",
   "execution_count": 29,
   "metadata": {},
   "outputs": [
    {
     "data": {
      "text/plain": [
       "'ma'"
      ]
     },
     "execution_count": 29,
     "metadata": {},
     "output_type": "execute_result"
    }
   ],
   "source": [
    "a[a.index('ma'):a.index('h')]\n"
   ]
  },
  {
   "cell_type": "code",
   "execution_count": null,
   "metadata": {},
   "outputs": [],
   "source": []
  }
 ],
 "metadata": {
  "kernelspec": {
   "display_name": "Python 3",
   "language": "python",
   "name": "python3"
  },
  "language_info": {
   "codemirror_mode": {
    "name": "ipython",
    "version": 3
   },
   "file_extension": ".py",
   "mimetype": "text/x-python",
   "name": "python",
   "nbconvert_exporter": "python",
   "pygments_lexer": "ipython3",
   "version": "3.6.5"
  }
 },
 "nbformat": 4,
 "nbformat_minor": 2
}
